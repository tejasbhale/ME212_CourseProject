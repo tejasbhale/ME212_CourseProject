{
 "cells": [
  {
   "cell_type": "markdown",
   "metadata": {},
   "source": [
    "# Determining Deflection in a beam using Castigliano's Theorem "
   ]
  },
  {
   "cell_type": "markdown",
   "metadata": {},
   "source": [
    "Castigliano's Theorem, or the theorem of least work is an extremely useful theorem which can be put to good use to find either vertical or horizontal deflections in beams. In this project, we make use of Castigliano's Second Theorem which applies only for structures made of linear elastic materials.  "
   ]
  },
  {
   "cell_type": "markdown",
   "metadata": {},
   "source": [
    "## Let us import a reference diagram for the problem we are going to solve."
   ]
  },
  {
   "cell_type": "code",
   "execution_count": 1,
   "metadata": {},
   "outputs": [
    {
     "data": {
      "image/png": "[encoded data removed]",
      "text/plain": [
       "<IPython.core.display.Image object>"
      ]
     },
     "execution_count": 1,
     "metadata": {},
     "output_type": "execute_result"
    }
   ],
   "source": [
    "from IPython.display import Image\n",
    "Image(\"D:\\Picture1.png\")"
   ]
  },
  {
   "cell_type": "markdown",
   "metadata": {},
   "source": [
    "Here, we will consider a beam of varying cross section. The height of the beam at the base is h1 whereas on the opposite end it is h2. The length of the beam is taken to be L. A point load P is applied at the end of the beam. Let the Young's Modulus of elasticity for the beam be E GPa. Our task is to find the displacement at the tip of the beam where the force is applied."
   ]
  },
  {
   "cell_type": "markdown",
   "metadata": {},
   "source": [
    "Castigliano's Second Theorem ="
   ]
  },
  {
   "cell_type": "code",
   "execution_count": 2,
   "metadata": {},
   "outputs": [
    {
     "data": {
      "image/jpeg": "[encoded data removed]",
      "text/plain": [
       "<IPython.core.display.Image object>"
      ]
     },
     "execution_count": 2,
     "metadata": {
      "image/jpeg": {
       "width": 90
      }
     },
     "output_type": "execute_result"
    }
   ],
   "source": [
    "Image(\"D:\\pico.jpg\", width = 90)"
   ]
  },
  {
   "cell_type": "markdown",
   "metadata": {},
   "source": [
    "For the problem we are solving, F = P"
   ]
  },
  {
   "cell_type": "markdown",
   "metadata": {},
   "source": [
    "We know that Strain energy (U) for bending is as follows-"
   ]
  },
  {
   "cell_type": "code",
   "execution_count": 3,
   "metadata": {},
   "outputs": [
    {
     "data": {
      "image/jpeg": "[encoded data removed]",
      "text/plain": [
       "<IPython.core.display.Image object>"
      ]
     },
     "execution_count": 3,
     "metadata": {},
     "output_type": "execute_result"
    }
   ],
   "source": [
    "Image(\"D:\\SharedScreenshot.jpg\")"
   ]
  },
  {
   "cell_type": "markdown",
   "metadata": {},
   "source": [
    "Here, I is the Moment of Inertia of the beam and E is the Young's Modulus"
   ]
  },
  {
   "cell_type": "markdown",
   "metadata": {},
   "source": [
    "Now, to find Delta, we need to find U. To find U, we need to know M and I. \n",
    "By observation, M at the wall (x=0) will be maximum i.e PL and at the end of the beam it will be 0."
   ]
  },
  {
   "cell_type": "markdown",
   "metadata": {},
   "source": [
    "Therefore, we can write:       M = Px-PL"
   ]
  },
  {
   "cell_type": "markdown",
   "metadata": {},
   "source": [
    "To find I, we need the height as a function of x. Thus, \n",
    "\n",
    "h= (h2-h1)x/L + h1"
   ]
  },
  {
   "cell_type": "markdown",
   "metadata": {},
   "source": [
    "Finally, I = (bh^3)/12 where h will be as above. It will be a function of x."
   ]
  },
  {
   "cell_type": "markdown",
   "metadata": {},
   "source": [
    "#### Let us now code these equations -"
   ]
  },
  {
   "cell_type": "code",
   "execution_count": 4,
   "metadata": {},
   "outputs": [],
   "source": [
    "from sympy import *"
   ]
  },
  {
   "cell_type": "code",
   "execution_count": 5,
   "metadata": {},
   "outputs": [],
   "source": [
    "x= Symbol('x')\n",
    "Po= Symbol('Po')"
   ]
  },
  {
   "cell_type": "markdown",
   "metadata": {},
   "source": [
    "#### Enter the values of the following variables in S.I units for which you wish to calculate the value of delta in the cell below. Here we will take some values to show how it is done."
   ]
  },
  {
   "cell_type": "code",
   "execution_count": 6,
   "metadata": {},
   "outputs": [],
   "source": [
    "P = 50000                                                         #enter the value of load in Newton \n",
    "L = 5                                                             #enter the value of Length of the beam in m\n",
    "h2 = 2                                                            #enter the value of the final height in m \n",
    "h1 = 4                                                            #enter the value of the initial height in m\n",
    "b = 3                                                             #enter the value of the base length in m \n",
    "E = 1.2e+11                                                       #enter the value of Young's modulus in Pascal(Pa)"
   ]
  },
  {
   "cell_type": "code",
   "execution_count": 7,
   "metadata": {},
   "outputs": [],
   "source": [
    "# Here we take a variable Po which is actually our load P to simplify the process of calculation of partial derivative \n",
    "# and hence its integral\n",
    "\n",
    "M = Po*x - Po*L                                                   #Moment as calculated above\n",
    "h = (h2-h1)*x/L + h1                                              #Height at any given x as calculated above\n",
    "I = (b*h**3)/12                                                   #Moment of Inertia of the beam at any given x\n",
    "U = (M**2)/(2*E*I)                                                #Strain Energy \n",
    "delta_pr = U.diff(Po) \n",
    "delta_dash = integrate(delta_pr, (x,0,L))\n",
    "delta =lambdify(Po,delta_dash)"
   ]
  },
  {
   "cell_type": "markdown",
   "metadata": {},
   "source": [
    "The code above does all the complex calculations. Since we had to take partial derivative with respect to the load P, entering the value of the load P before hand wouldn't work. Thus now, we output our final answer by finally substituting the value of our load P using the lambdify function. "
   ]
  },
  {
   "cell_type": "code",
   "execution_count": 8,
   "metadata": {},
   "outputs": [
    {
     "name": "stdout",
     "output_type": "stream",
     "text": [
      "(1.7746661604150658e-06+0j)\n"
     ]
    }
   ],
   "source": [
    "print(delta(P))"
   ]
  },
  {
   "cell_type": "markdown",
   "metadata": {},
   "source": [
    "#### Thus, we have found out the displacement at the tip of the beam where the force is applied. \n",
    "                                    \n",
    "                                    Delta = 1.77 x 10^(-6) \n",
    "                                    Delta = 1.77 Micrometer"
   ]
  },
  {
   "cell_type": "markdown",
   "metadata": {},
   "source": [
    "### Hence, this code serves as a powerful tool to easily calculate the deflection of the tip of the varying beam in the vertical direction for any given values of P, L, E, b, h2 and h1 by simply entering all these unknowns in the input cell above!"
   ]
  }
 ],
 "metadata": {
  "kernelspec": {
   "display_name": "Python 3",
   "language": "python",
   "name": "python3"
  },
  "language_info": {
   "codemirror_mode": {
    "name": "ipython",
    "version": 3
   },
   "file_extension": ".py",
   "mimetype": "text/x-python",
   "name": "python",
   "nbconvert_exporter": "python",
   "pygments_lexer": "ipython3",
   "version": "3.7.6"
  }
 },
 "nbformat": 4,
 "nbformat_minor": 4
}
